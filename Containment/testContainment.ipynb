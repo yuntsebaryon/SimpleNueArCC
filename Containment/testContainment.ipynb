{
 "cells": [
  {
   "cell_type": "code",
   "execution_count": 1,
   "id": "8f1223d7",
   "metadata": {},
   "outputs": [
    {
     "name": "stdout",
     "output_type": "stream",
     "text": [
      "Welcome to JupyROOT 6.26/06\n"
     ]
    }
   ],
   "source": [
    "import ROOT\n",
    "import os\n",
    "import numpy as np\n",
    "import pandas as pd\n",
    "import matplotlib.pyplot as plt"
   ]
  },
  {
   "cell_type": "code",
   "execution_count": 2,
   "id": "62a655f5",
   "metadata": {},
   "outputs": [],
   "source": [
    "df = pd.DataFrame(ROOT.RDataFrame(\"edep\", \"/Users/yuntse/work/coherent/preLArTPC/test.root\").AsNumpy())"
   ]
  },
  {
   "cell_type": "code",
   "execution_count": 3,
   "id": "86d5591c",
   "metadata": {},
   "outputs": [],
   "source": [
    "iEvt = 0\n",
    "Event = df[df.event == iEvt]"
   ]
  },
  {
   "cell_type": "code",
   "execution_count": 4,
   "id": "2c545c44",
   "metadata": {},
   "outputs": [
    {
     "data": {
      "text/plain": [
       "88.49021219525994"
      ]
     },
     "execution_count": 4,
     "metadata": {},
     "output_type": "execute_result"
    }
   ],
   "source": [
    "Event[~Event.pdg.isin((12, 22, 2112))]['startX'].max()"
   ]
  },
  {
   "cell_type": "code",
   "execution_count": 13,
   "id": "75d87d9e",
   "metadata": {},
   "outputs": [
    {
     "data": {
      "text/plain": [
       "232   -486.704532\n",
       "233   -486.702380\n",
       "259   -376.695861\n",
       "261   -376.365179\n",
       "260   -376.189166\n",
       "          ...    \n",
       "139     77.322004\n",
       "140     78.748441\n",
       "141     79.653579\n",
       "142     79.910260\n",
       "145     88.490212\n",
       "Name: startX, Length: 121, dtype: float64"
      ]
     },
     "execution_count": 13,
     "metadata": {},
     "output_type": "execute_result"
    }
   ],
   "source": [
    "Event[~Event.pdg.isin((12, 22, 2112))]['startX'].sort_values()"
   ]
  },
  {
   "cell_type": "code",
   "execution_count": 14,
   "id": "db35e881",
   "metadata": {},
   "outputs": [
    {
     "data": {
      "text/plain": [
       "dE           0.048461\n",
       "endX        88.494008\n",
       "endY        69.321570\n",
       "endZ        60.945784\n",
       "event        0.000000\n",
       "motherID    25.000000\n",
       "pdg         11.000000\n",
       "startE       0.559460\n",
       "startX      88.490212\n",
       "startY      69.313322\n",
       "startZ      60.938910\n",
       "trackID     26.000000\n",
       "Name: 145, dtype: float64"
      ]
     },
     "execution_count": 14,
     "metadata": {},
     "output_type": "execute_result"
    }
   ],
   "source": [
    "Event.loc[145]"
   ]
  },
  {
   "cell_type": "code",
   "execution_count": null,
   "id": "9acb9086",
   "metadata": {},
   "outputs": [],
   "source": []
  }
 ],
 "metadata": {
  "kernelspec": {
   "display_name": "Python 3 (ipykernel)",
   "language": "python",
   "name": "python3"
  },
  "language_info": {
   "codemirror_mode": {
    "name": "ipython",
    "version": 3
   },
   "file_extension": ".py",
   "mimetype": "text/x-python",
   "name": "python",
   "nbconvert_exporter": "python",
   "pygments_lexer": "ipython3",
   "version": "3.9.15"
  }
 },
 "nbformat": 4,
 "nbformat_minor": 5
}
